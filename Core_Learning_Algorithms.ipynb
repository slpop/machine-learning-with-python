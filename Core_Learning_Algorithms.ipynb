{
  "nbformat": 4,
  "nbformat_minor": 0,
  "metadata": {
    "colab": {
      "provenance": [],
      "authorship_tag": "ABX9TyNZS8sWMsK0lNdcDUfzZwFJ",
      "include_colab_link": true
    },
    "kernelspec": {
      "name": "python3",
      "display_name": "Python 3"
    },
    "language_info": {
      "name": "python"
    }
  },
  "cells": [
    {
      "cell_type": "markdown",
      "metadata": {
        "id": "view-in-github",
        "colab_type": "text"
      },
      "source": [
        "<a href=\"https://colab.research.google.com/github/slpop/machine-learning-with-python/blob/main/Core_Learning_Algorithms.ipynb\" target=\"_parent\"><img src=\"https://colab.research.google.com/assets/colab-badge.svg\" alt=\"Open In Colab\"/></a>"
      ]
    },
    {
      "cell_type": "code",
      "execution_count": 1,
      "metadata": {
        "id": "-wWP4U8NKNWG",
        "colab": {
          "base_uri": "https://localhost:8080/"
        },
        "outputId": "0ad46f46-45db-4857-cde2-7a7efb7d5a55"
      },
      "outputs": [
        {
          "output_type": "stream",
          "name": "stdout",
          "text": [
            "  Preparing metadata (setup.py) ... \u001b[?25l\u001b[?25hdone\n",
            "  Building wheel for sklearn (setup.py) ... \u001b[?25l\u001b[?25hdone\n"
          ]
        }
      ],
      "source": [
        "!pip install -q sklearn"
      ]
    },
    {
      "cell_type": "code",
      "source": [
        "%tensorflow_version 2.x"
      ],
      "metadata": {
        "id": "6WM7bt2uLxy-",
        "colab": {
          "base_uri": "https://localhost:8080/"
        },
        "outputId": "44653e5d-88bc-4aae-b6bf-2762fed775d8"
      },
      "execution_count": 2,
      "outputs": [
        {
          "output_type": "stream",
          "name": "stdout",
          "text": [
            "Colab only includes TensorFlow 2.x; %tensorflow_version has no effect.\n"
          ]
        }
      ]
    },
    {
      "cell_type": "code",
      "source": [
        "from __future__ import absolute_import, division, print_function, unicode_literals\n",
        "\n",
        "import numpy as np # for multidimensional calculations such as matrix math and vector operations\n",
        "import pandas as pd # data analytics\n",
        "import matplotlib.pyplot as plt # visualization of data- graphs, charts\n",
        "from IPython.display import clear_output # clears output of this notebook\n",
        "from six.moves import urllib\n",
        "\n",
        "import tensorflow.compat.v2.feature_column as fc\n",
        "\n",
        "import tensorflow as tf\n"
      ],
      "metadata": {
        "id": "u2p9wY1VL-en"
      },
      "execution_count": 3,
      "outputs": []
    },
    {
      "cell_type": "code",
      "source": [
        "dftrain = pd.read_csv('https://storage.googleapis.com/tf-datasets/titanic/train.csv') # training data\n",
        "dfeval = pd.read_csv('https://storage.googleapis.com/tf-datasets/titanic/eval.csv') # testing data\n",
        "#print(dftrain.head()) show columns\n",
        "y_train = dftrain.pop('survived')\n",
        "y_eval = dfeval.pop('survived')\n",
        "#print(dftrain[\"age\"]) # print all ages from data set\n",
        "#dftrain.describe\n",
        "#dftrain.shape # view shape of model"
      ],
      "metadata": {
        "colab": {
          "base_uri": "https://localhost:8080/"
        },
        "id": "vqkjxp3s73wk",
        "outputId": "55dbc081-5ec3-4c0a-ea79-3bf93e033b51"
      },
      "execution_count": 20,
      "outputs": [
        {
          "output_type": "execute_result",
          "data": {
            "text/plain": [
              "(627, 9)"
            ]
          },
          "metadata": {},
          "execution_count": 20
        }
      ]
    },
    {
      "cell_type": "code",
      "source": [
        "# histogram of the different classes in data set\n",
        "dftrain['class'].value_counts().plot(kind='barh')"
      ],
      "metadata": {
        "id": "ycxeQmIaBpPs"
      },
      "execution_count": null,
      "outputs": []
    }
  ]
}